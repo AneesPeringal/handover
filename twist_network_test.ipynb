{
  "nbformat": 4,
  "nbformat_minor": 0,
  "metadata": {
    "colab": {
      "name": "twist_network_test.ipynb",
      "provenance": [],
      "collapsed_sections": [],
      "authorship_tag": "ABX9TyOQwEKbHcIMUilgr+l2kMzr",
      "include_colab_link": true
    },
    "kernelspec": {
      "display_name": "Python 3",
      "name": "python3"
    },
    "language_info": {
      "name": "python"
    },
    "accelerator": "GPU"
  },
  "cells": [
    {
      "cell_type": "markdown",
      "metadata": {
        "id": "view-in-github",
        "colab_type": "text"
      },
      "source": [
        "<a href=\"https://colab.research.google.com/github/AneesPeringal/handover/blob/main/twist_network_test.ipynb\" target=\"_parent\"><img src=\"https://colab.research.google.com/assets/colab-badge.svg\" alt=\"Open In Colab\"/></a>"
      ]
    },
    {
      "cell_type": "code",
      "metadata": {
        "id": "vQzAiRLJj2yH"
      },
      "source": [
        "import numpy as np\n",
        "import pandas as pd\n",
        "import time\n",
        "import random\n",
        "import scipy.io as spio\n",
        "import seaborn\n",
        "import matplotlib\n",
        "from matplotlib import pyplot as plt\n",
        "from sklearn import preprocessing\n",
        "from keras.layers import TimeDistributed\n",
        "from keras.layers.core import Dense, Activation, Dropout\n",
        "from keras.layers.recurrent import LSTM\n",
        "from keras.models import Sequential\n",
        "from sklearn.model_selection import train_test_split\n",
        "from sklearn.utils import shuffle\n",
        "import tensorflow as tf\n",
        "from math import sqrt\n",
        "from keras.backend import clear_session\n",
        "import copy\n",
        "from sklearn.metrics import accuracy_score\n",
        "import math\n"
      ],
      "execution_count": 1,
      "outputs": []
    },
    {
      "cell_type": "code",
      "metadata": {
        "colab": {
          "base_uri": "https://localhost:8080/",
          "height": 36
        },
        "id": "rLk82xBal2sV",
        "outputId": "b333390a-c8ae-4411-b8dd-f9c7f7705783"
      },
      "source": [
        "tf.test.gpu_device_name()"
      ],
      "execution_count": 2,
      "outputs": [
        {
          "output_type": "execute_result",
          "data": {
            "application/vnd.google.colaboratory.intrinsic+json": {
              "type": "string"
            },
            "text/plain": [
              "'/device:GPU:0'"
            ]
          },
          "metadata": {
            "tags": []
          },
          "execution_count": 2
        }
      ]
    },
    {
      "cell_type": "code",
      "metadata": {
        "colab": {
          "base_uri": "https://localhost:8080/"
        },
        "id": "hbFMV4D5nCxG",
        "outputId": "e9e5bfa6-79ed-454b-a008-29db814cb6ee"
      },
      "source": [
        "from google.colab import drive\n",
        "drive.mount('/content/drive')"
      ],
      "execution_count": 3,
      "outputs": [
        {
          "output_type": "stream",
          "text": [
            "Mounted at /content/drive\n"
          ],
          "name": "stdout"
        }
      ]
    },
    {
      "cell_type": "code",
      "metadata": {
        "colab": {
          "base_uri": "https://localhost:8080/"
        },
        "id": "G4FvME-O1EEH",
        "outputId": "fd7d904c-ee67-4ec8-f659-8c7bf5f60d60"
      },
      "source": [
        "import math\n",
        "roll = 0\n",
        "pitch = 0\n",
        "yaw = math.pi\n",
        "Rx = np.array([[1, 0, 0], [0,math.cos(roll), -math.sin(roll)], [0, math.sin(roll), math.cos(roll)]])\n",
        "print(Rx)\n"
      ],
      "execution_count": 4,
      "outputs": [
        {
          "output_type": "stream",
          "text": [
            "[[ 1.  0.  0.]\n",
            " [ 0.  1. -0.]\n",
            " [ 0.  0.  1.]]\n"
          ],
          "name": "stdout"
        }
      ]
    },
    {
      "cell_type": "code",
      "metadata": {
        "id": "oFgZs_Rnxgmt"
      },
      "source": [
        "def R_2IB(roll,pitch,yaw,acc_x,acc_y,acc_z):\n",
        "  Rx = np.array([[1, 0, 0], [0, math.cos(roll), -math.sin(roll)],[0, math.sin(roll), math.cos(roll)]])\n",
        "  Ry = np.array([[math.cos(pitch), 0, math.sin(pitch)],[0, 1, 0],[-math.sin(pitch), 0, math.cos(pitch)]])\n",
        "  Rz = np.array([[math.cos(yaw), -math.sin(yaw), 0],[math.sin(yaw), math.cos(yaw), 0],[0, 0, 1]])\n",
        "\n"
      ],
      "execution_count": 5,
      "outputs": []
    },
    {
      "cell_type": "code",
      "metadata": {
        "id": "T8NuF91qk4-s"
      },
      "source": [
        "num_flights = 7\n",
        "features = 9\n",
        "flights = [[] for _ in range(num_flights)]\n"
      ],
      "execution_count": 6,
      "outputs": []
    },
    {
      "cell_type": "code",
      "metadata": {
        "id": "NTrDkgjIp5bq"
      },
      "source": [
        "flights[0] = spio.loadmat(\"/content/drive/My Drive/Colab Notebooks/flight_data/flight1_final.mat\")\n",
        "flights[1] = spio.loadmat(\"/content/drive/My Drive/Colab Notebooks/flight_data/flight2_final.mat\")\n",
        "flights[2] = spio.loadmat(\"/content/drive/My Drive/Colab Notebooks/flight_data/flight3_final.mat\")\n",
        "flights[3] = spio.loadmat(\"/content/drive/My Drive/Colab Notebooks/flight_data/flight4_final.mat\")\n",
        "flights[4] = spio.loadmat(\"/content/drive/My Drive/Colab Notebooks/flight_data/flight5_final.mat\")\n",
        "flights[5] = spio.loadmat(\"/content/drive/My Drive/Colab Notebooks/flight_data/flight6_final.mat\")\n",
        "flights[6] = spio.loadmat(\"/content/drive/My Drive/Colab Notebooks/flight_data/flight7_final.mat\")\n"
      ],
      "execution_count": 7,
      "outputs": []
    },
    {
      "cell_type": "code",
      "metadata": {
        "id": "-a1WBhqqmwoa"
      },
      "source": [
        "error_z = [[]for _ in range(num_flights)]\n",
        "acc_x = [[]for _ in range(num_flights)]\n",
        "acc_y = [[]for _ in range(num_flights)]\n",
        "acc_z = [[]for _ in range(num_flights)]\n",
        "roll = [[]for _ in range(num_flights)]\n",
        "pitch = [[]for _ in range(num_flights)]\n",
        "yaw = [[]for _ in range(num_flights)]\n",
        "motor1 = [[]for _ in range(num_flights)]\n",
        "motor2 = [[]for _ in range(num_flights)]\n",
        "labels = [[]for _ in range(num_flights)]\n",
        "for i in range(num_flights):\n",
        "  error_z[i] = flights[i]['data'][1][1200:-103]\n",
        "  acc_x[i] = flights[i]['data'][2][1200:-103]\n",
        "  acc_y[i] = flights[i]['data'][3][1200:-103]\n",
        "  acc_z[i] = flights[i]['data'][4][1200:-103]\n",
        "  roll[i] = flights[i]['data'][5][1200:-103]\n",
        "  pitch[i] = flights[i]['data'][6][1200:-103]\n",
        "  yaw[i] = flights[i]['data'][7][1200:-103]\n",
        "  motor1[i] = flights[i]['motor1'].T[1200:-103]\n",
        "  motor2[i] = flights[i]['motor2'].T[1200:-103]\n",
        "  labels[i] = flights[i]['label'].T[1200:-103]\n",
        "  # error_z[i] = flights[i]['data'][1]\n",
        "  # acc_x[i] = flights[i]['data'][2]\n",
        "  # acc_y[i] = flights[i]['data'][3]\n",
        "  # acc_z[i] = flights[i]['data'][4]\n",
        "  # roll[i] = flights[i]['data'][5]\n",
        "  # pitch[i] = flights[i]['data'][6]\n",
        "  # yaw[i] = flights[i]['data'][7]\n",
        "  # motor1[i] = flights[i]['motor1']\n",
        "  # motor2[i] = flights[i]['motor2']\n",
        "  # labels[i] = flights[i]['label'].T\n",
        "\n"
      ],
      "execution_count": 8,
      "outputs": []
    },
    {
      "cell_type": "code",
      "metadata": {
        "colab": {
          "base_uri": "https://localhost:8080/"
        },
        "id": "WesZ4DEAGR5R",
        "outputId": "923e3bd6-c9f9-469a-e3b5-f3fdc30aec00"
      },
      "source": [
        "np.shape(error_z[2])"
      ],
      "execution_count": 9,
      "outputs": [
        {
          "output_type": "execute_result",
          "data": {
            "text/plain": [
              "(21776,)"
            ]
          },
          "metadata": {
            "tags": []
          },
          "execution_count": 9
        }
      ]
    },
    {
      "cell_type": "code",
      "metadata": {
        "colab": {
          "base_uri": "https://localhost:8080/"
        },
        "id": "iSoy0W8HGOwu",
        "outputId": "d259cd73-cdad-4716-8787-34b6f320f95b"
      },
      "source": [
        "np.shape(labels[2])"
      ],
      "execution_count": 10,
      "outputs": [
        {
          "output_type": "execute_result",
          "data": {
            "text/plain": [
              "(21776, 1)"
            ]
          },
          "metadata": {
            "tags": []
          },
          "execution_count": 10
        }
      ]
    },
    {
      "cell_type": "code",
      "metadata": {
        "colab": {
          "base_uri": "https://localhost:8080/",
          "height": 283
        },
        "id": "T6TpcsaREi7M",
        "outputId": "3a22e9db-5caa-445f-d2d2-ad9e746bc606"
      },
      "source": [
        "plt.plot(error_z[2])\n",
        "plt.plot(labels[2])\n",
        "plt.show\n"
      ],
      "execution_count": 11,
      "outputs": [
        {
          "output_type": "execute_result",
          "data": {
            "text/plain": [
              "<function matplotlib.pyplot.show>"
            ]
          },
          "metadata": {
            "tags": []
          },
          "execution_count": 11
        },
        {
          "output_type": "display_data",
          "data": {
            "image/png": "[encoded data removed]",
            "text/plain": [
              "<Figure size 432x288 with 1 Axes>"
            ]
          },
          "metadata": {
            "tags": [],
            "needs_background": "light"
          }
        }
      ]
    },
    {
      "cell_type": "code",
      "metadata": {
        "id": "eqQYTVDTvAbH"
      },
      "source": [
        "#getting the features\n",
        "l2_acc_in = [[] for i in range(num_flights)]\n",
        "l2_ori = [[] for i in range(num_flights)]\n",
        "dist = [[] for i in range(num_flights)]\n",
        "\n",
        "#for i in range(num_flights):\n",
        "  #for j in range(error_z[i]):\n"
      ],
      "execution_count": 12,
      "outputs": []
    },
    {
      "cell_type": "code",
      "metadata": {
        "colab": {
          "base_uri": "https://localhost:8080/",
          "height": 283
        },
        "id": "SbCzct8m6q36",
        "outputId": "123d9e45-e803-4395-8414-ee9b284c662b"
      },
      "source": [
        "## downsample\n",
        "z = error_z[0]\n",
        "z_downsampled = []\n",
        "counter = 0\n",
        "sum =0\n",
        "for i in range(len(z)):\n",
        "  if counter < 5:\n",
        "    sum = sum+z[i]\n",
        "    counter = counter+1\n",
        "\n",
        "\n",
        "  else:\n",
        "    z_downsampled.append(sum)\n",
        "    sum =0\n",
        "    counter = 0\n",
        "\n",
        "plt.plot(z_downsampled)\n"
      ],
      "execution_count": 13,
      "outputs": [
        {
          "output_type": "execute_result",
          "data": {
            "text/plain": [
              "[<matplotlib.lines.Line2D at 0x7fbb00225a50>]"
            ]
          },
          "metadata": {
            "tags": []
          },
          "execution_count": 13
        },
        {
          "output_type": "display_data",
          "data": {
            "image/png": "[encoded data removed]",
            "text/plain": [
              "<Figure size 432x288 with 1 Axes>"
            ]
          },
          "metadata": {
            "tags": [],
            "needs_background": "light"
          }
        }
      ]
    },
    {
      "cell_type": "code",
      "metadata": {
        "id": "2nkOUiYdFmEi"
      },
      "source": [
        "app_z = np.hstack((error_z[0], error_z[1], error_z[2], error_z[3], error_z[4], error_z[5], error_z[6]))\n",
        "app_acc_x = np.hstack((acc_x[0], acc_x[1], acc_x[2], acc_x[3], acc_x[4], acc_x[5], acc_x[6]))\n",
        "app_acc_y = np.hstack((acc_y[0], acc_y[1], acc_y[2], acc_y[3], acc_y[4], acc_y[5], acc_y[6]))\n",
        "app_acc_z = np.hstack((acc_z[0], acc_z[1], acc_z[2], acc_z[3], acc_z[4], acc_z[5], acc_z[6]))\n",
        "app_roll = np.hstack((roll[0], roll[1], roll[2], roll[3], roll[4], roll[5], roll[6]))\n",
        "app_pitch = np.hstack((pitch[0], pitch[1], pitch[2], pitch[3], pitch[4], pitch[5], pitch[6]))\n",
        "app_yaw = np.hstack((yaw[0], yaw[1], yaw[2], yaw[3], yaw[4], yaw[5], yaw[6]))\n",
        "\n"
      ],
      "execution_count": 14,
      "outputs": []
    },
    {
      "cell_type": "code",
      "metadata": {
        "colab": {
          "base_uri": "https://localhost:8080/"
        },
        "id": "T0LKTslfJvlj",
        "outputId": "af63b8b6-5880-4de7-d8f9-cbc86ece2621"
      },
      "source": [
        "print(np.shape(pitch[0]))\n",
        "print(np.shape(yaw[0]))"
      ],
      "execution_count": 15,
      "outputs": [
        {
          "output_type": "stream",
          "text": [
            "(19079,)\n",
            "(19079,)\n"
          ],
          "name": "stdout"
        }
      ]
    },
    {
      "cell_type": "code",
      "metadata": {
        "id": "71HerrQaBkic"
      },
      "source": [
        "app_motor1 = np.vstack((motor1[0], motor1[1], motor1[2], motor1[3], motor1[4], motor1[5], motor1[6]))\n",
        "app_motor2 = np.vstack((motor2[0], motor2[1], motor2[2], motor2[3], motor2[4], motor2[5], motor2[6]))\n",
        "app_label = np.vstack((labels[0],labels[1], labels[2],labels[3], labels[4], labels[5], labels[6]))"
      ],
      "execution_count": 16,
      "outputs": []
    },
    {
      "cell_type": "code",
      "metadata": {
        "id": "rm7lPN8meLel"
      },
      "source": [
        "# app_motor1 = app_motor1.flatten()\n",
        "# app_motor2 =app_motor2.flatten()\n",
        "# app_label = app_label.flatten()\n"
      ],
      "execution_count": 17,
      "outputs": []
    },
    {
      "cell_type": "code",
      "metadata": {
        "id": "xZu1yYg5TPSr"
      },
      "source": [
        "def remap(array):\n",
        "  minimum = min(array)\n",
        "  maximum = max(array)\n",
        "  return((array-minimum)/(maximum-minimum))\n"
      ],
      "execution_count": 18,
      "outputs": []
    },
    {
      "cell_type": "code",
      "metadata": {
        "colab": {
          "base_uri": "https://localhost:8080/",
          "height": 283
        },
        "id": "B8Vu2QNLTcWI",
        "outputId": "1106a02f-9bb1-4b46-e46d-cc1292777f9a"
      },
      "source": [
        "plt.plot(remap(app_yaw))"
      ],
      "execution_count": 19,
      "outputs": [
        {
          "output_type": "execute_result",
          "data": {
            "text/plain": [
              "[<matplotlib.lines.Line2D at 0x7fbb001ab650>]"
            ]
          },
          "metadata": {
            "tags": []
          },
          "execution_count": 19
        },
        {
          "output_type": "display_data",
          "data": {
            "image/png": "[encoded data removed]",
            "text/plain": [
              "<Figure size 432x288 with 1 Axes>"
            ]
          },
          "metadata": {
            "tags": [],
            "needs_background": "light"
          }
        }
      ]
    },
    {
      "cell_type": "code",
      "metadata": {
        "colab": {
          "base_uri": "https://localhost:8080/"
        },
        "id": "fL4MayFwJ3G6",
        "outputId": "00b6b4c3-ecb0-4aff-da58-b87e2e2b979a"
      },
      "source": [
        "print(np.shape(app_z))\n",
        "print(np.shape(app_roll))\n",
        "print(np.shape(app_pitch))\n",
        "print(np.shape(app_yaw))\n",
        "print(np.shape(app_acc_x))\n",
        "print(np.shape(app_acc_y))\n",
        "print(np.shape(app_acc_z))"
      ],
      "execution_count": 20,
      "outputs": [
        {
          "output_type": "stream",
          "text": [
            "(158356,)\n",
            "(158356,)\n",
            "(158356,)\n",
            "(158356,)\n",
            "(158356,)\n",
            "(158356,)\n",
            "(158356,)\n"
          ],
          "name": "stdout"
        }
      ]
    },
    {
      "cell_type": "code",
      "metadata": {
        "colab": {
          "base_uri": "https://localhost:8080/",
          "height": 863
        },
        "id": "dtAdRBm7Bvks",
        "outputId": "fbbaf600-bff5-484c-82f7-adb00171e9b2"
      },
      "source": [
        "plt.figure(figsize = (15,15))\n",
        "plt.plot(app_motor1)\n",
        "plt.plot(app_label)\n",
        "plt.show()\n",
        "## the middle part are not really twists, I am just puching the drone in different directions so that the model can reject other disturbances."
      ],
      "execution_count": 21,
      "outputs": [
        {
          "output_type": "display_data",
          "data": {
            "image/png": "[encoded data removed]",
            "text/plain": [
              "<Figure size 1080x1080 with 1 Axes>"
            ]
          },
          "metadata": {
            "tags": [],
            "needs_background": "light"
          }
        }
      ]
    },
    {
      "cell_type": "code",
      "metadata": {
        "colab": {
          "base_uri": "https://localhost:8080/"
        },
        "id": "GmJE9oG7mL_f",
        "outputId": "93af5347-4b2f-4d3b-a161-68449cc7cee3"
      },
      "source": [
        "print(app_z)\n",
        "print(np.shape(app_z))"
      ],
      "execution_count": 22,
      "outputs": [
        {
          "output_type": "stream",
          "text": [
            "[ 0.02934402  0.02931297  0.02931297 ... -0.00358701 -0.00358701\n",
            " -0.00358701]\n",
            "(158356,)\n"
          ],
          "name": "stdout"
        }
      ]
    },
    {
      "cell_type": "code",
      "metadata": {
        "id": "ZwJuoJmImaFS"
      },
      "source": [
        "app_motor1 = app_motor1.flatten()\n",
        "app_motor2 = app_motor2.flatten()\n",
        "app_label = app_label.flatten()"
      ],
      "execution_count": 23,
      "outputs": []
    },
    {
      "cell_type": "code",
      "metadata": {
        "colab": {
          "base_uri": "https://localhost:8080/"
        },
        "id": "aS937_AilP4t",
        "outputId": "9d0e0b17-5ce9-4fb2-98f5-c4f287c49a8f"
      },
      "source": [
        "print(app_motor1)\n",
        "print(np.shape(app_motor1))"
      ],
      "execution_count": 24,
      "outputs": [
        {
          "output_type": "stream",
          "text": [
            "[0.57805549 0.57761625 0.57707677 ... 0.47689996 0.47633049 0.47615479]\n",
            "(158356,)\n"
          ],
          "name": "stdout"
        }
      ]
    },
    {
      "cell_type": "code",
      "metadata": {
        "id": "2w9Mcbxe-iDY"
      },
      "source": [
        "data = [app_z, app_roll, app_pitch, app_acc_x, app_acc_y, app_acc_z,app_motor1,app_motor2]  #just for ease of looping\n",
        "for i in range(len(data)):\n",
        "  data[i] = np.hstack((data[i][:120000],data[i][120106:]))\n",
        "app_label = np.hstack((app_label[:120000],app_label[120106:]))\n",
        "# app_z = np.hstack((app_z[:120000],app_z[120106:]))\n",
        "# app_roll = np.hstack((app_roll[:120000],app_roll[120106:]))\n",
        "# app_pitch = np.hstack((app_pitch[:120000],app_pitch[120106:]))\n",
        "# app_yaw = np.hstack((app_yaw[:120000],app_yaw[120106:]))\n",
        "# app_acc_x = np.hstack((app_acc_x[:120000],app_acc_x[120106:]))\n",
        "# app_acc_y = np.hstack((app_acc_y[:120000],app_acc_y[120106:]))\n",
        "# app_acc_Z = np.hstack((app_acc_z[:120000],app_acc_z[120106:]))\n",
        "# app_motor1 = np.vstack((app_motor1[:120000],app_motor1[120106:]))\n",
        "# app_motor2 = np.vstack((app_motor2[:120000],app_motor2[120106:]))\n",
        "# app_label = np.vstack((app_label[:120000],app_label[120106:]))"
      ],
      "execution_count": 25,
      "outputs": []
    },
    {
      "cell_type": "code",
      "metadata": {
        "id": "NPc8wZaJl-aV"
      },
      "source": [
        "#normalizing the data to avoid bias\n",
        "for i in range(len(data)):\n",
        "  data[i] = remap(data[i])\n",
        "\n"
      ],
      "execution_count": 26,
      "outputs": []
    },
    {
      "cell_type": "code",
      "metadata": {
        "colab": {
          "base_uri": "https://localhost:8080/"
        },
        "id": "VxuBxfxpIXiP",
        "outputId": "0832dbf4-131a-4a4b-fd73-326849bd66d0"
      },
      "source": [
        "\n",
        "print(np.shape(data))\n",
        "print(np.shape(app_label))"
      ],
      "execution_count": 27,
      "outputs": [
        {
          "output_type": "stream",
          "text": [
            "(8, 158250)\n",
            "(158250,)\n"
          ],
          "name": "stdout"
        }
      ]
    },
    {
      "cell_type": "code",
      "metadata": {
        "id": "DoHkvx6NH3_i"
      },
      "source": [
        "data = np.array(data)\n",
        "data = data.T"
      ],
      "execution_count": 28,
      "outputs": []
    },
    {
      "cell_type": "code",
      "metadata": {
        "id": "5F0I5BTEhUBh"
      },
      "source": [
        "#splitting the data into windows\n",
        "window_size=250\n",
        "num_windows = int(len(data)/window_size)\n",
        "num_features = np.shape(data)[1]\n",
        "\n",
        "data_sampled = np.zeros((num_windows, window_size, num_features))\n",
        "\n",
        "for i in range(num_windows):\n",
        "  data_sampled[i][:][:] = data[window_size*i:window_size*(i+1)][:]\n",
        "\n",
        "data_labels = np.reshape(app_label,(num_windows,window_size,1))\n"
      ],
      "execution_count": 29,
      "outputs": []
    },
    {
      "cell_type": "code",
      "metadata": {
        "colab": {
          "base_uri": "https://localhost:8080/"
        },
        "id": "yki7alftI7zU",
        "outputId": "3934390c-9fb2-4a24-ad2a-535234b92a13"
      },
      "source": [
        "print(np.shape(data_sampled), np.shape(data_labels))"
      ],
      "execution_count": 30,
      "outputs": [
        {
          "output_type": "stream",
          "text": [
            "(633, 250, 8) (633, 250, 1)\n"
          ],
          "name": "stdout"
        }
      ]
    },
    {
      "cell_type": "code",
      "metadata": {
        "colab": {
          "base_uri": "https://localhost:8080/"
        },
        "id": "hzob-pQ4Gab7",
        "outputId": "78b5cc2c-2ab9-4056-d8a6-820c1355374d"
      },
      "source": [
        "#balancing the data\n",
        "data_balanced = data[:][:]\n",
        "data_labels_balanced  = np.asarray([item for sublist in data_labels for item in sublist])\n",
        "num_features =8\n",
        "while np.count_nonzero(data_labels_balanced ==1)<np.count_nonzero(data_labels_balanced ==0):\n",
        "  count =0\n",
        "  for i in range(len(data_labels)):\n",
        "    if np.count_nonzero(data_labels[i,:,0]==1) > window_size // 2:\n",
        "      count = count+1\n",
        "      data_balanced = np.vstack((data_balanced, np.reshape(data_balanced[i*window_size:i*window_size+window_size],(window_size, num_features))))\n",
        "      data_labels_balanced = np.vstack((data_labels_balanced, np.reshape(data_labels_balanced[i*window_size:i*window_size+window_size],(window_size,1))))\n",
        "      if np.count_nonzero(data_labels[i+1,:,0]==1) > 0:\n",
        "        for count in range(1):\n",
        "          data_balanced = np.vstack((data_balanced, np.reshape(data_balanced[(i+1)*window_size:(i+1)*window_size+window_size],(window_size,num_features))))\n",
        "          data_labels_balanced = np.vstack((data_labels_balanced, np.reshape(data_labels_balanced[(i+1)*window_size:(i+1)*window_size+window_size],(window_size,1))))\n",
        "      if np.count_nonzero(data_labels_balanced==1) == np.count_nonzero(data_labels_balanced==0):\n",
        "        break\n",
        "  print(np.shape(data_balanced))"
      ],
      "execution_count": 31,
      "outputs": [
        {
          "output_type": "stream",
          "text": [
            "(195500, 8)\n",
            "(232750, 8)\n",
            "(270000, 8)\n",
            "(307250, 8)\n"
          ],
          "name": "stdout"
        }
      ]
    },
    {
      "cell_type": "code",
      "metadata": {
        "colab": {
          "base_uri": "https://localhost:8080/"
        },
        "id": "YIUL3Lw9SSEq",
        "outputId": "b78ebd9c-ef25-43fd-da8a-4c54eda2106a"
      },
      "source": [
        "print(np.count_nonzero(data_labels_balanced ==1),np.count_nonzero(data_labels_balanced ==0))"
      ],
      "execution_count": 32,
      "outputs": [
        {
          "output_type": "stream",
          "text": [
            "155663 151587\n"
          ],
          "name": "stdout"
        }
      ]
    },
    {
      "cell_type": "code",
      "metadata": {
        "id": "rTDNnvwtm9TE"
      },
      "source": [
        "#scaler\n"
      ],
      "execution_count": 33,
      "outputs": []
    },
    {
      "cell_type": "markdown",
      "metadata": {
        "id": "Iuyw_qLySooT"
      },
      "source": [
        "if I want to get the norms later, I should do that the latest over here\n"
      ]
    },
    {
      "cell_type": "code",
      "metadata": {
        "colab": {
          "base_uri": "https://localhost:8080/"
        },
        "id": "9adwXaKA0rH_",
        "outputId": "6405ab16-4037-42db-a928-1cf27813630f"
      },
      "source": [
        "#data augmentation\n",
        "# noise = np.random.normal(0,0.01/4, 633*250)\n",
        "# bias = 0.05\n",
        "# data_augmented =[[]for _ in range(len(data))]\n",
        "# data_motor_aug =[[]for _ in range(len(data))]\n",
        "# for i in range(len(data)):\n",
        "#   data_augmented[i] = np.hstack((data[i],data[i]+noise,data[i]+noise-bias,data[i]+2*noise-bias, data[i]+noise*2))\n",
        "# label_aug = np.vstack((app_label,app_label,app_label,app_label,app_label))\n",
        "\n",
        "# data_motor_aug[0] = data_motor_aug[0].T\n",
        "# data_motor_aug[1] = data_motor_aug[1].T\n",
        "# print(np.shape(data_augmented[0]))\n",
        "# print(np.shape(data_motor_aug[0]))\n",
        "# print(np.shape(label_aug))\n",
        "\n",
        "noise = np.random.normal(0,0.01/4,np.shape(data_balanced)[0]*np.shape(data_balanced)[1])\n",
        "noise = np.reshape(noise, (np.shape(data_balanced)[0],np.shape(data_balanced)[1]))\n",
        "bias =0.05\n",
        "data_augmented = np.vstack((data_balanced, data_balanced+noise, data_balanced+noise-bias, data_balanced+2*noise-bias, data_balanced+noise*2))\n",
        "\n",
        "print(np.shape(data_augmented))\n",
        "\n",
        "data_labels_augmented = np.vstack((data_labels_balanced, data_labels_balanced, data_labels_balanced, data_labels_balanced, data_labels_balanced))\n",
        "print(np.shape(data_labels_augmented))\n",
        "\n"
      ],
      "execution_count": 34,
      "outputs": [
        {
          "output_type": "stream",
          "text": [
            "(1536250, 8)\n",
            "(1536250, 1)\n"
          ],
          "name": "stdout"
        }
      ]
    },
    {
      "cell_type": "code",
      "metadata": {
        "colab": {
          "base_uri": "https://localhost:8080/"
        },
        "id": "nQ0dyI497-hp",
        "outputId": "8f2bf68a-95dd-4b1b-8957-c8688e065c84"
      },
      "source": [
        "##shuffling\n",
        "num_windows_augmented = len(data_augmented) // window_size\n",
        "split_list_data = np.reshape(data_augmented,(num_windows_augmented, window_size,num_features))\n",
        "split_list_labels = np.reshape(data_labels_augmented[:,0],(num_windows_augmented, window_size,1))\n",
        "\n",
        "print(np.shape(split_list_labels))\n",
        "print(np.shape(split_list_data))\n"
      ],
      "execution_count": 35,
      "outputs": [
        {
          "output_type": "stream",
          "text": [
            "(6145, 250, 1)\n",
            "(6145, 250, 8)\n"
          ],
          "name": "stdout"
        }
      ]
    },
    {
      "cell_type": "code",
      "metadata": {
        "colab": {
          "base_uri": "https://localhost:8080/"
        },
        "id": "9tQ85d0yGPKP",
        "outputId": "23905d62-2e4c-4c23-c580-06b0abb4aec0"
      },
      "source": [
        "int(num_windows_augmented*0.5)"
      ],
      "execution_count": 36,
      "outputs": [
        {
          "output_type": "execute_result",
          "data": {
            "text/plain": [
              "3072"
            ]
          },
          "metadata": {
            "tags": []
          },
          "execution_count": 36
        }
      ]
    },
    {
      "cell_type": "code",
      "metadata": {
        "colab": {
          "base_uri": "https://localhost:8080/"
        },
        "id": "eYvQuyp0LILd",
        "outputId": "219855e7-16be-4e4e-ffa0-06de2261fa75"
      },
      "source": [
        "from sklearn.utils import shuffle\n",
        "X, y = shuffle(split_list_data, split_list_labels, random_state =1)\n",
        "\n",
        "train_length = int(num_windows_augmented*0.5)\n",
        "valid_length = train_length +int(num_windows_augmented*0.25)\n",
        "\n",
        "\n",
        "trainX = X[0:train_length]\n",
        "trainY = y[0:train_length]\n",
        "validationX = X[train_length:valid_length]\n",
        "validationY = y[train_length:valid_length]\n",
        "testX = X[valid_length:]\n",
        "testY = y[valid_length:]\n",
        "\n",
        "print(np.shape(trainX), np.shape(trainY), np.shape(validationX), np.shape(validationY), np.shape(testX), np.shape(testY))"
      ],
      "execution_count": 37,
      "outputs": [
        {
          "output_type": "stream",
          "text": [
            "(3072, 250, 8) (3072, 250, 1) (1536, 250, 8) (1536, 250, 1) (1537, 250, 8) (1537, 250, 1)\n"
          ],
          "name": "stdout"
        }
      ]
    },
    {
      "cell_type": "code",
      "metadata": {
        "colab": {
          "base_uri": "https://localhost:8080/"
        },
        "id": "FBpDP8j9JPpd",
        "outputId": "d7b307b8-7a49-4c70-ddfe-6fa5780756f5"
      },
      "source": [
        "trainX.shape[2]"
      ],
      "execution_count": 38,
      "outputs": [
        {
          "output_type": "execute_result",
          "data": {
            "text/plain": [
              "8"
            ]
          },
          "metadata": {
            "tags": []
          },
          "execution_count": 38
        }
      ]
    },
    {
      "cell_type": "code",
      "metadata": {
        "colab": {
          "base_uri": "https://localhost:8080/"
        },
        "id": "V1EYiBNbpksq",
        "outputId": "b6b5b196-e579-42b4-8d60-5bc0e031ec21"
      },
      "source": [
        "neurons = 50\n",
        "verbose, epochs, batch_size = 0, 150, 128\n",
        "n_timesteps, n_features, n_outputs = trainX.shape[1], trainX.shape[2], trainY.shape[1]\n",
        "\n",
        "model = Sequential()\n",
        "model.add(LSTM(200, return_sequences=True, input_shape=(n_timesteps,n_features)))\n",
        "model.add(Dropout(0.5))\n",
        "model.add(LSTM(100, return_sequences=True))\n",
        "model.add(Dropout(0.5))\n",
        "model.add(TimeDistributed(Dense(50, activation='relu')))\n",
        "model.add(TimeDistributed(Dense(1, activation='sigmoid')))\n",
        "model.compile(loss='binary_crossentropy', optimizer='rmsprop', metrics=['accuracy'])\n",
        "\n",
        "model.summary()\n"
      ],
      "execution_count": 39,
      "outputs": [
        {
          "output_type": "stream",
          "text": [
            "Model: \"sequential\"\n",
            "_________________________________________________________________\n",
            "Layer (type)                 Output Shape              Param #   \n",
            "=================================================================\n",
            "lstm (LSTM)                  (None, 250, 200)          167200    \n",
            "_________________________________________________________________\n",
            "dropout (Dropout)            (None, 250, 200)          0         \n",
            "_________________________________________________________________\n",
            "lstm_1 (LSTM)                (None, 250, 100)          120400    \n",
            "_________________________________________________________________\n",
            "dropout_1 (Dropout)          (None, 250, 100)          0         \n",
            "_________________________________________________________________\n",
            "time_distributed (TimeDistri (None, 250, 50)           5050      \n",
            "_________________________________________________________________\n",
            "time_distributed_1 (TimeDist (None, 250, 1)            51        \n",
            "=================================================================\n",
            "Total params: 292,701\n",
            "Trainable params: 292,701\n",
            "Non-trainable params: 0\n",
            "_________________________________________________________________\n"
          ],
          "name": "stdout"
        }
      ]
    },
    {
      "cell_type": "code",
      "metadata": {
        "colab": {
          "base_uri": "https://localhost:8080/",
          "height": 754
        },
        "id": "5DwyNv_2DjcX",
        "outputId": "b533510f-2ef3-4332-8465-3abc6169bfa1"
      },
      "source": [
        "from keras.utils.vis_utils import plot_model\n",
        "plot_model(model, to_file='model_plot.png', show_shapes=True, show_layer_names=True)"
      ],
      "execution_count": 40,
      "outputs": [
        {
          "output_type": "execute_result",
          "data": {
            "image/png": "[encoded data removed]",
            "text/plain": [
              "<IPython.core.display.Image object>"
            ]
          },
          "metadata": {
            "tags": []
          },
          "execution_count": 40
        }
      ]
    },
    {
      "cell_type": "code",
      "metadata": {
        "colab": {
          "base_uri": "https://localhost:8080/"
        },
        "id": "d_i5Nj4lGhXc",
        "outputId": "48e65a31-c8e2-4ed0-b469-ee34faf47b07"
      },
      "source": [
        "\n",
        "\n",
        "model.fit(trainX, trainY, validation_data=(validationX, validationY), epochs=epochs, batch_size=batch_size)"
      ],
      "execution_count": 41,
      "outputs": [
        {
          "output_type": "stream",
          "text": [
            "Epoch 1/150\n",
            "24/24 [==============================] - 61s 1s/step - loss: 0.7387 - accuracy: 0.5291 - val_loss: 0.6927 - val_accuracy: 0.4983\n",
            "Epoch 2/150\n",
            "24/24 [==============================] - 23s 983ms/step - loss: 0.6962 - accuracy: 0.5126 - val_loss: 0.6878 - val_accuracy: 0.4653\n",
            "Epoch 3/150\n",
            "24/24 [==============================] - 26s 1s/step - loss: 0.6848 - accuracy: 0.5402 - val_loss: 0.9514 - val_accuracy: 0.5773\n",
            "Epoch 4/150\n",
            "24/24 [==============================] - 26s 1s/step - loss: 0.6631 - accuracy: 0.6076 - val_loss: 0.4672 - val_accuracy: 0.7850\n",
            "Epoch 5/150\n",
            "24/24 [==============================] - 26s 1s/step - loss: 0.6002 - accuracy: 0.6580 - val_loss: 0.5072 - val_accuracy: 0.7646\n",
            "Epoch 6/150\n",
            "24/24 [==============================] - 26s 1s/step - loss: 0.4995 - accuracy: 0.7680 - val_loss: 0.4560 - val_accuracy: 0.8111\n",
            "Epoch 7/150\n",
            "24/24 [==============================] - 27s 1s/step - loss: 0.4921 - accuracy: 0.7562 - val_loss: 0.5795 - val_accuracy: 0.7834\n",
            "Epoch 8/150\n",
            "24/24 [==============================] - 27s 1s/step - loss: 0.5845 - accuracy: 0.7045 - val_loss: 0.3756 - val_accuracy: 0.8373\n",
            "Epoch 9/150\n",
            "24/24 [==============================] - 26s 1s/step - loss: 0.4303 - accuracy: 0.7986 - val_loss: 0.4303 - val_accuracy: 0.7929\n",
            "Epoch 10/150\n",
            "24/24 [==============================] - 26s 1s/step - loss: 0.4319 - accuracy: 0.7962 - val_loss: 0.4618 - val_accuracy: 0.7843\n",
            "Epoch 11/150\n",
            "24/24 [==============================] - 26s 1s/step - loss: 0.4256 - accuracy: 0.7929 - val_loss: 0.3812 - val_accuracy: 0.8425\n",
            "Epoch 12/150\n",
            "24/24 [==============================] - 26s 1s/step - loss: 0.4531 - accuracy: 0.7799 - val_loss: 0.3715 - val_accuracy: 0.8454\n",
            "Epoch 13/150\n",
            "24/24 [==============================] - 26s 1s/step - loss: 0.4096 - accuracy: 0.8192 - val_loss: 0.6050 - val_accuracy: 0.7606\n",
            "Epoch 14/150\n",
            "24/24 [==============================] - 26s 1s/step - loss: 0.4184 - accuracy: 0.8358 - val_loss: 0.3414 - val_accuracy: 0.8487\n",
            "Epoch 15/150\n",
            "24/24 [==============================] - 26s 1s/step - loss: 0.3808 - accuracy: 0.8181 - val_loss: 0.3323 - val_accuracy: 0.8665\n",
            "Epoch 16/150\n",
            "24/24 [==============================] - 26s 1s/step - loss: 0.3527 - accuracy: 0.8435 - val_loss: 0.3681 - val_accuracy: 0.8372\n",
            "Epoch 17/150\n",
            "24/24 [==============================] - 26s 1s/step - loss: 0.3424 - accuracy: 0.8572 - val_loss: 0.3472 - val_accuracy: 0.8169\n",
            "Epoch 18/150\n",
            "24/24 [==============================] - 27s 1s/step - loss: 0.4921 - accuracy: 0.7409 - val_loss: 0.3120 - val_accuracy: 0.8626\n",
            "Epoch 19/150\n",
            "24/24 [==============================] - 27s 1s/step - loss: 0.3386 - accuracy: 0.8555 - val_loss: 1.1644 - val_accuracy: 0.4831\n",
            "Epoch 20/150\n",
            "24/24 [==============================] - 27s 1s/step - loss: 0.4759 - accuracy: 0.7797 - val_loss: 0.3220 - val_accuracy: 0.8658\n",
            "Epoch 21/150\n",
            "24/24 [==============================] - 26s 1s/step - loss: 0.3356 - accuracy: 0.8515 - val_loss: 0.4119 - val_accuracy: 0.8284\n",
            "Epoch 22/150\n",
            "24/24 [==============================] - 27s 1s/step - loss: 0.3977 - accuracy: 0.8359 - val_loss: 0.2999 - val_accuracy: 0.8800\n",
            "Epoch 23/150\n",
            "24/24 [==============================] - 26s 1s/step - loss: 0.3444 - accuracy: 0.8749 - val_loss: 0.4409 - val_accuracy: 0.7964\n",
            "Epoch 24/150\n",
            "24/24 [==============================] - 27s 1s/step - loss: 0.3370 - accuracy: 0.8629 - val_loss: 0.2885 - val_accuracy: 0.8803\n",
            "Epoch 25/150\n",
            "24/24 [==============================] - 26s 1s/step - loss: 0.3197 - accuracy: 0.8718 - val_loss: 0.3077 - val_accuracy: 0.8871\n",
            "Epoch 26/150\n",
            "24/24 [==============================] - 26s 1s/step - loss: 0.3123 - accuracy: 0.8756 - val_loss: 0.4811 - val_accuracy: 0.7608\n",
            "Epoch 27/150\n",
            "24/24 [==============================] - 27s 1s/step - loss: 0.3792 - accuracy: 0.8326 - val_loss: 0.4184 - val_accuracy: 0.8278\n",
            "Epoch 28/150\n",
            "24/24 [==============================] - 27s 1s/step - loss: 0.3261 - accuracy: 0.8682 - val_loss: 0.3232 - val_accuracy: 0.8598\n",
            "Epoch 29/150\n",
            "24/24 [==============================] - 26s 1s/step - loss: 0.2956 - accuracy: 0.8830 - val_loss: 0.2895 - val_accuracy: 0.8857\n",
            "Epoch 30/150\n",
            "24/24 [==============================] - 26s 1s/step - loss: 0.3394 - accuracy: 0.8553 - val_loss: 0.2556 - val_accuracy: 0.8930\n",
            "Epoch 31/150\n",
            "24/24 [==============================] - 27s 1s/step - loss: 0.4040 - accuracy: 0.8343 - val_loss: 0.3757 - val_accuracy: 0.8415\n",
            "Epoch 32/150\n",
            "24/24 [==============================] - 26s 1s/step - loss: 0.3410 - accuracy: 0.8529 - val_loss: 0.3103 - val_accuracy: 0.8628\n",
            "Epoch 33/150\n",
            "24/24 [==============================] - 26s 1s/step - loss: 0.2851 - accuracy: 0.8847 - val_loss: 0.3068 - val_accuracy: 0.8747\n",
            "Epoch 34/150\n",
            "24/24 [==============================] - 26s 1s/step - loss: 0.2999 - accuracy: 0.8871 - val_loss: 0.2845 - val_accuracy: 0.8893\n",
            "Epoch 35/150\n",
            "24/24 [==============================] - 26s 1s/step - loss: 0.3168 - accuracy: 0.8665 - val_loss: 0.2935 - val_accuracy: 0.8654\n",
            "Epoch 36/150\n",
            "24/24 [==============================] - 26s 1s/step - loss: 0.3520 - accuracy: 0.8753 - val_loss: 0.2828 - val_accuracy: 0.8930\n",
            "Epoch 37/150\n",
            "24/24 [==============================] - 26s 1s/step - loss: 0.2904 - accuracy: 0.8859 - val_loss: 0.2623 - val_accuracy: 0.8946\n",
            "Epoch 38/150\n",
            "24/24 [==============================] - 26s 1s/step - loss: 0.3017 - accuracy: 0.8833 - val_loss: 0.3250 - val_accuracy: 0.8661\n",
            "Epoch 39/150\n",
            "24/24 [==============================] - 26s 1s/step - loss: 0.3026 - accuracy: 0.8746 - val_loss: 0.4639 - val_accuracy: 0.8000\n",
            "Epoch 40/150\n",
            "24/24 [==============================] - 26s 1s/step - loss: 0.3160 - accuracy: 0.8693 - val_loss: 0.2671 - val_accuracy: 0.8926\n",
            "Epoch 41/150\n",
            "24/24 [==============================] - 26s 1s/step - loss: 0.3097 - accuracy: 0.8789 - val_loss: 0.2660 - val_accuracy: 0.8902\n",
            "Epoch 42/150\n",
            "24/24 [==============================] - 24s 993ms/step - loss: 0.3065 - accuracy: 0.8814 - val_loss: 0.3092 - val_accuracy: 0.8720\n",
            "Epoch 43/150\n",
            "24/24 [==============================] - 26s 1s/step - loss: 0.2756 - accuracy: 0.8914 - val_loss: 0.3945 - val_accuracy: 0.8520\n",
            "Epoch 44/150\n",
            "24/24 [==============================] - 27s 1s/step - loss: 0.3745 - accuracy: 0.8468 - val_loss: 1.0520 - val_accuracy: 0.6268\n",
            "Epoch 45/150\n",
            "24/24 [==============================] - 26s 1s/step - loss: 0.4401 - accuracy: 0.8204 - val_loss: 0.3828 - val_accuracy: 0.8529\n",
            "Epoch 46/150\n",
            "24/24 [==============================] - 27s 1s/step - loss: 0.4289 - accuracy: 0.8374 - val_loss: 0.2664 - val_accuracy: 0.8934\n",
            "Epoch 47/150\n",
            "24/24 [==============================] - 26s 1s/step - loss: 0.3519 - accuracy: 0.8604 - val_loss: 0.2902 - val_accuracy: 0.8797\n",
            "Epoch 48/150\n",
            "24/24 [==============================] - 26s 1s/step - loss: 0.2751 - accuracy: 0.8939 - val_loss: 0.2555 - val_accuracy: 0.8945\n",
            "Epoch 49/150\n",
            "24/24 [==============================] - 26s 1s/step - loss: 0.2857 - accuracy: 0.8890 - val_loss: 0.2554 - val_accuracy: 0.8973\n",
            "Epoch 50/150\n",
            "24/24 [==============================] - 27s 1s/step - loss: 0.2852 - accuracy: 0.8861 - val_loss: 0.3764 - val_accuracy: 0.8405\n",
            "Epoch 51/150\n",
            "24/24 [==============================] - 27s 1s/step - loss: 0.3213 - accuracy: 0.8699 - val_loss: 0.4300 - val_accuracy: 0.8464\n",
            "Epoch 52/150\n",
            "24/24 [==============================] - 26s 1s/step - loss: 0.3168 - accuracy: 0.8751 - val_loss: 0.2693 - val_accuracy: 0.8871\n",
            "Epoch 53/150\n",
            "24/24 [==============================] - 26s 1s/step - loss: 0.2862 - accuracy: 0.8888 - val_loss: 0.2604 - val_accuracy: 0.8941\n",
            "Epoch 54/150\n",
            "24/24 [==============================] - 26s 1s/step - loss: 0.2657 - accuracy: 0.8982 - val_loss: 0.3158 - val_accuracy: 0.8614\n",
            "Epoch 55/150\n",
            "24/24 [==============================] - 27s 1s/step - loss: 0.3053 - accuracy: 0.8814 - val_loss: 0.7037 - val_accuracy: 0.7988\n",
            "Epoch 56/150\n",
            "24/24 [==============================] - 24s 1s/step - loss: 0.3620 - accuracy: 0.8700 - val_loss: 0.2691 - val_accuracy: 0.8929\n",
            "Epoch 57/150\n",
            "24/24 [==============================] - 26s 1s/step - loss: 0.2758 - accuracy: 0.8940 - val_loss: 0.2847 - val_accuracy: 0.8851\n",
            "Epoch 58/150\n",
            "24/24 [==============================] - 26s 1s/step - loss: 0.3103 - accuracy: 0.8801 - val_loss: 0.2630 - val_accuracy: 0.8887\n",
            "Epoch 59/150\n",
            "24/24 [==============================] - 26s 1s/step - loss: 0.2778 - accuracy: 0.8876 - val_loss: 0.3455 - val_accuracy: 0.8849\n",
            "Epoch 60/150\n",
            "24/24 [==============================] - 26s 1s/step - loss: 0.2843 - accuracy: 0.8966 - val_loss: 0.6870 - val_accuracy: 0.6926\n",
            "Epoch 61/150\n",
            "24/24 [==============================] - 26s 1s/step - loss: 0.4049 - accuracy: 0.8410 - val_loss: 0.3107 - val_accuracy: 0.8840\n",
            "Epoch 62/150\n",
            "24/24 [==============================] - 27s 1s/step - loss: 0.3124 - accuracy: 0.8723 - val_loss: 0.2425 - val_accuracy: 0.8987\n",
            "Epoch 63/150\n",
            "24/24 [==============================] - 27s 1s/step - loss: 0.3214 - accuracy: 0.8576 - val_loss: 0.2593 - val_accuracy: 0.8917\n",
            "Epoch 64/150\n",
            "24/24 [==============================] - 26s 1s/step - loss: 0.3060 - accuracy: 0.8788 - val_loss: 0.2799 - val_accuracy: 0.8796\n",
            "Epoch 65/150\n",
            "24/24 [==============================] - 27s 1s/step - loss: 0.3175 - accuracy: 0.8717 - val_loss: 0.2453 - val_accuracy: 0.8958\n",
            "Epoch 66/150\n",
            "24/24 [==============================] - 26s 1s/step - loss: 0.3083 - accuracy: 0.8658 - val_loss: 0.2523 - val_accuracy: 0.9010\n",
            "Epoch 67/150\n",
            "24/24 [==============================] - 27s 1s/step - loss: 0.2719 - accuracy: 0.8913 - val_loss: 0.2481 - val_accuracy: 0.9026\n",
            "Epoch 68/150\n",
            "24/24 [==============================] - 26s 1s/step - loss: 0.2838 - accuracy: 0.8947 - val_loss: 0.2641 - val_accuracy: 0.8949\n",
            "Epoch 69/150\n",
            "24/24 [==============================] - 26s 1s/step - loss: 0.3552 - accuracy: 0.8515 - val_loss: 0.2910 - val_accuracy: 0.8296\n",
            "Epoch 70/150\n",
            "24/24 [==============================] - 26s 1s/step - loss: 0.2840 - accuracy: 0.8828 - val_loss: 0.2325 - val_accuracy: 0.9020\n",
            "Epoch 71/150\n",
            "24/24 [==============================] - 26s 1s/step - loss: 0.2669 - accuracy: 0.8913 - val_loss: 0.2442 - val_accuracy: 0.9036\n",
            "Epoch 72/150\n",
            "24/24 [==============================] - 23s 974ms/step - loss: 0.2715 - accuracy: 0.8925 - val_loss: 0.2788 - val_accuracy: 0.8871\n",
            "Epoch 73/150\n",
            "24/24 [==============================] - 26s 1s/step - loss: 0.3079 - accuracy: 0.8800 - val_loss: 0.2642 - val_accuracy: 0.8929\n",
            "Epoch 74/150\n",
            "24/24 [==============================] - 26s 1s/step - loss: 0.2728 - accuracy: 0.8886 - val_loss: 0.3002 - val_accuracy: 0.8677\n",
            "Epoch 75/150\n",
            "24/24 [==============================] - 26s 1s/step - loss: 0.2868 - accuracy: 0.8811 - val_loss: 0.2650 - val_accuracy: 0.8856\n",
            "Epoch 76/150\n",
            "24/24 [==============================] - 26s 1s/step - loss: 0.2838 - accuracy: 0.8832 - val_loss: 0.2697 - val_accuracy: 0.8892\n",
            "Epoch 77/150\n",
            "24/24 [==============================] - 26s 1s/step - loss: 0.2694 - accuracy: 0.8858 - val_loss: 0.2315 - val_accuracy: 0.9009\n",
            "Epoch 78/150\n",
            "24/24 [==============================] - 26s 1s/step - loss: 0.2717 - accuracy: 0.8900 - val_loss: 0.2291 - val_accuracy: 0.9023\n",
            "Epoch 79/150\n",
            "24/24 [==============================] - 26s 1s/step - loss: 0.2549 - accuracy: 0.8996 - val_loss: 0.2452 - val_accuracy: 0.9011\n",
            "Epoch 80/150\n",
            "24/24 [==============================] - 26s 1s/step - loss: 0.3067 - accuracy: 0.8799 - val_loss: 0.2911 - val_accuracy: 0.8689\n",
            "Epoch 81/150\n",
            "24/24 [==============================] - 26s 1s/step - loss: 0.2784 - accuracy: 0.8850 - val_loss: 0.2796 - val_accuracy: 0.8792\n",
            "Epoch 82/150\n",
            "24/24 [==============================] - 26s 1s/step - loss: 0.2629 - accuracy: 0.8925 - val_loss: 0.7179 - val_accuracy: 0.6761\n",
            "Epoch 83/150\n",
            "24/24 [==============================] - 26s 1s/step - loss: 0.3721 - accuracy: 0.8561 - val_loss: 0.2472 - val_accuracy: 0.9028\n",
            "Epoch 84/150\n",
            "24/24 [==============================] - 26s 1s/step - loss: 0.2550 - accuracy: 0.8968 - val_loss: 0.3993 - val_accuracy: 0.7970\n",
            "Epoch 85/150\n",
            "24/24 [==============================] - 26s 1s/step - loss: 0.3186 - accuracy: 0.8632 - val_loss: 0.2594 - val_accuracy: 0.8891\n",
            "Epoch 86/150\n",
            "24/24 [==============================] - 26s 1s/step - loss: 0.2627 - accuracy: 0.8924 - val_loss: 0.2492 - val_accuracy: 0.8974\n",
            "Epoch 87/150\n",
            "24/24 [==============================] - 26s 1s/step - loss: 0.2577 - accuracy: 0.8930 - val_loss: 0.2408 - val_accuracy: 0.9017\n",
            "Epoch 88/150\n",
            "24/24 [==============================] - 26s 1s/step - loss: 0.2788 - accuracy: 0.8905 - val_loss: 0.2475 - val_accuracy: 0.8989\n",
            "Epoch 89/150\n",
            "24/24 [==============================] - 26s 1s/step - loss: 0.4885 - accuracy: 0.8640 - val_loss: 0.2213 - val_accuracy: 0.9103\n",
            "Epoch 90/150\n",
            "24/24 [==============================] - 26s 1s/step - loss: 0.2561 - accuracy: 0.8959 - val_loss: 0.2229 - val_accuracy: 0.9080\n",
            "Epoch 91/150\n",
            "24/24 [==============================] - 26s 1s/step - loss: 0.2341 - accuracy: 0.9093 - val_loss: 0.3043 - val_accuracy: 0.8758\n",
            "Epoch 92/150\n",
            "24/24 [==============================] - 26s 1s/step - loss: 0.3625 - accuracy: 0.8608 - val_loss: 0.2617 - val_accuracy: 0.8987\n",
            "Epoch 93/150\n",
            "24/24 [==============================] - 26s 1s/step - loss: 0.2428 - accuracy: 0.9068 - val_loss: 0.3989 - val_accuracy: 0.8322\n",
            "Epoch 94/150\n",
            "24/24 [==============================] - 26s 1s/step - loss: 0.2620 - accuracy: 0.8949 - val_loss: 0.2407 - val_accuracy: 0.9002\n",
            "Epoch 95/150\n",
            "24/24 [==============================] - 26s 1s/step - loss: 0.2593 - accuracy: 0.8971 - val_loss: 0.2305 - val_accuracy: 0.9089\n",
            "Epoch 96/150\n",
            "24/24 [==============================] - 26s 1s/step - loss: 0.2812 - accuracy: 0.8917 - val_loss: 0.2862 - val_accuracy: 0.8872\n",
            "Epoch 97/150\n",
            "24/24 [==============================] - 26s 1s/step - loss: 0.2693 - accuracy: 0.8920 - val_loss: 0.2265 - val_accuracy: 0.9073\n",
            "Epoch 98/150\n",
            "24/24 [==============================] - 25s 1s/step - loss: 0.2806 - accuracy: 0.8936 - val_loss: 0.2365 - val_accuracy: 0.9008\n",
            "Epoch 99/150\n",
            "24/24 [==============================] - 26s 1s/step - loss: 0.2227 - accuracy: 0.9125 - val_loss: 0.2250 - val_accuracy: 0.9067\n",
            "Epoch 100/150\n",
            "24/24 [==============================] - 26s 1s/step - loss: 0.3131 - accuracy: 0.8773 - val_loss: 0.2364 - val_accuracy: 0.9110\n",
            "Epoch 101/150\n",
            "24/24 [==============================] - 26s 1s/step - loss: 0.3387 - accuracy: 0.8662 - val_loss: 0.3185 - val_accuracy: 0.8679\n",
            "Epoch 102/150\n",
            "24/24 [==============================] - 23s 968ms/step - loss: 0.2959 - accuracy: 0.8794 - val_loss: 0.2425 - val_accuracy: 0.8995\n",
            "Epoch 103/150\n",
            "24/24 [==============================] - 25s 1s/step - loss: 0.2729 - accuracy: 0.8856 - val_loss: 0.2583 - val_accuracy: 0.8908\n",
            "Epoch 104/150\n",
            "24/24 [==============================] - 26s 1s/step - loss: 0.3480 - accuracy: 0.8677 - val_loss: 0.2420 - val_accuracy: 0.9035\n",
            "Epoch 105/150\n",
            "24/24 [==============================] - 25s 1s/step - loss: 0.2560 - accuracy: 0.8992 - val_loss: 0.2519 - val_accuracy: 0.8970\n",
            "Epoch 106/150\n",
            "24/24 [==============================] - 23s 971ms/step - loss: 0.2449 - accuracy: 0.9011 - val_loss: 0.2566 - val_accuracy: 0.8897\n",
            "Epoch 107/150\n",
            "24/24 [==============================] - 26s 1s/step - loss: 0.2683 - accuracy: 0.8930 - val_loss: 0.2350 - val_accuracy: 0.9048\n",
            "Epoch 108/150\n",
            "24/24 [==============================] - 26s 1s/step - loss: 0.3066 - accuracy: 0.8820 - val_loss: 0.4632 - val_accuracy: 0.7843\n",
            "Epoch 109/150\n",
            "24/24 [==============================] - 26s 1s/step - loss: 0.4627 - accuracy: 0.7885 - val_loss: 0.2839 - val_accuracy: 0.8944\n",
            "Epoch 110/150\n",
            "24/24 [==============================] - 26s 1s/step - loss: 0.2616 - accuracy: 0.9036 - val_loss: 0.2273 - val_accuracy: 0.9074\n",
            "Epoch 111/150\n",
            "24/24 [==============================] - 26s 1s/step - loss: 0.2855 - accuracy: 0.8848 - val_loss: 0.4725 - val_accuracy: 0.8349\n",
            "Epoch 112/150\n",
            "24/24 [==============================] - 26s 1s/step - loss: 0.3142 - accuracy: 0.8730 - val_loss: 0.2883 - val_accuracy: 0.8849\n",
            "Epoch 113/150\n",
            "24/24 [==============================] - 26s 1s/step - loss: 0.2430 - accuracy: 0.9077 - val_loss: 0.4382 - val_accuracy: 0.8314\n",
            "Epoch 114/150\n",
            "24/24 [==============================] - 26s 1s/step - loss: 0.2978 - accuracy: 0.8776 - val_loss: 0.2409 - val_accuracy: 0.9000\n",
            "Epoch 115/150\n",
            "24/24 [==============================] - 23s 968ms/step - loss: 0.2481 - accuracy: 0.9016 - val_loss: 0.2527 - val_accuracy: 0.8959\n",
            "Epoch 116/150\n",
            "24/24 [==============================] - 26s 1s/step - loss: 0.2599 - accuracy: 0.8976 - val_loss: 0.2379 - val_accuracy: 0.9001\n",
            "Epoch 117/150\n",
            "24/24 [==============================] - 23s 961ms/step - loss: 0.3218 - accuracy: 0.8777 - val_loss: 0.4637 - val_accuracy: 0.8149\n",
            "Epoch 118/150\n",
            "24/24 [==============================] - 25s 1s/step - loss: 0.3439 - accuracy: 0.8694 - val_loss: 0.3730 - val_accuracy: 0.8545\n",
            "Epoch 119/150\n",
            "24/24 [==============================] - 23s 967ms/step - loss: 0.3016 - accuracy: 0.8793 - val_loss: 0.2344 - val_accuracy: 0.9062\n",
            "Epoch 120/150\n",
            "24/24 [==============================] - 26s 1s/step - loss: 0.2503 - accuracy: 0.8960 - val_loss: 0.2768 - val_accuracy: 0.8814\n",
            "Epoch 121/150\n",
            "24/24 [==============================] - 26s 1s/step - loss: 0.3399 - accuracy: 0.8761 - val_loss: 0.2596 - val_accuracy: 0.8887\n",
            "Epoch 122/150\n",
            "24/24 [==============================] - 26s 1s/step - loss: 0.2691 - accuracy: 0.8840 - val_loss: 0.2828 - val_accuracy: 0.8733\n",
            "Epoch 123/150\n",
            "24/24 [==============================] - 26s 1s/step - loss: 0.2977 - accuracy: 0.8808 - val_loss: 0.2588 - val_accuracy: 0.8949\n",
            "Epoch 124/150\n",
            "24/24 [==============================] - 23s 969ms/step - loss: 0.2459 - accuracy: 0.9025 - val_loss: 0.3278 - val_accuracy: 0.8620\n",
            "Epoch 125/150\n",
            "24/24 [==============================] - 26s 1s/step - loss: 0.2715 - accuracy: 0.8914 - val_loss: 0.2713 - val_accuracy: 0.8730\n",
            "Epoch 126/150\n",
            "24/24 [==============================] - 26s 1s/step - loss: 0.2519 - accuracy: 0.8952 - val_loss: 0.2779 - val_accuracy: 0.8848\n",
            "Epoch 127/150\n",
            "24/24 [==============================] - 26s 1s/step - loss: 0.2554 - accuracy: 0.8944 - val_loss: 0.2392 - val_accuracy: 0.9039\n",
            "Epoch 128/150\n",
            "24/24 [==============================] - 26s 1s/step - loss: 0.2494 - accuracy: 0.9035 - val_loss: 0.2178 - val_accuracy: 0.9121\n",
            "Epoch 129/150\n",
            "24/24 [==============================] - 26s 1s/step - loss: 0.2690 - accuracy: 0.8934 - val_loss: 0.2472 - val_accuracy: 0.8976\n",
            "Epoch 130/150\n",
            "24/24 [==============================] - 26s 1s/step - loss: 0.3526 - accuracy: 0.8796 - val_loss: 0.3035 - val_accuracy: 0.8677\n",
            "Epoch 131/150\n",
            "24/24 [==============================] - 26s 1s/step - loss: 0.2762 - accuracy: 0.8952 - val_loss: 0.2503 - val_accuracy: 0.8993\n",
            "Epoch 132/150\n",
            "24/24 [==============================] - 26s 1s/step - loss: 0.3169 - accuracy: 0.8727 - val_loss: 0.2526 - val_accuracy: 0.9018\n",
            "Epoch 133/150\n",
            "24/24 [==============================] - 26s 1s/step - loss: 0.2408 - accuracy: 0.9040 - val_loss: 0.2580 - val_accuracy: 0.9043\n",
            "Epoch 134/150\n",
            "24/24 [==============================] - 26s 1s/step - loss: 0.2876 - accuracy: 0.8874 - val_loss: 0.2891 - val_accuracy: 0.8821\n",
            "Epoch 135/150\n",
            "24/24 [==============================] - 26s 1s/step - loss: 0.2635 - accuracy: 0.8931 - val_loss: 0.2505 - val_accuracy: 0.8948\n",
            "Epoch 136/150\n",
            "24/24 [==============================] - 26s 1s/step - loss: 0.2614 - accuracy: 0.8948 - val_loss: 0.2414 - val_accuracy: 0.8985\n",
            "Epoch 137/150\n",
            "24/24 [==============================] - 26s 1s/step - loss: 0.2468 - accuracy: 0.8966 - val_loss: 0.2297 - val_accuracy: 0.9076\n",
            "Epoch 138/150\n",
            "24/24 [==============================] - 26s 1s/step - loss: 0.2586 - accuracy: 0.9035 - val_loss: 0.2121 - val_accuracy: 0.9138\n",
            "Epoch 139/150\n",
            "24/24 [==============================] - 26s 1s/step - loss: 0.2558 - accuracy: 0.9012 - val_loss: 0.5315 - val_accuracy: 0.8172\n",
            "Epoch 140/150\n",
            "24/24 [==============================] - 26s 1s/step - loss: 0.3726 - accuracy: 0.8440 - val_loss: 0.2251 - val_accuracy: 0.9032\n",
            "Epoch 141/150\n",
            "24/24 [==============================] - 26s 1s/step - loss: 0.2254 - accuracy: 0.9110 - val_loss: 0.2369 - val_accuracy: 0.9027\n",
            "Epoch 142/150\n",
            "24/24 [==============================] - 26s 1s/step - loss: 0.2613 - accuracy: 0.9064 - val_loss: 0.2744 - val_accuracy: 0.8991\n",
            "Epoch 143/150\n",
            "24/24 [==============================] - 26s 1s/step - loss: 0.2873 - accuracy: 0.8963 - val_loss: 0.2249 - val_accuracy: 0.9070\n",
            "Epoch 144/150\n",
            "24/24 [==============================] - 26s 1s/step - loss: 0.2223 - accuracy: 0.9106 - val_loss: 0.2127 - val_accuracy: 0.9101\n",
            "Epoch 145/150\n",
            "24/24 [==============================] - 26s 1s/step - loss: 0.2873 - accuracy: 0.8855 - val_loss: 0.5302 - val_accuracy: 0.7887\n",
            "Epoch 146/150\n",
            "24/24 [==============================] - 26s 1s/step - loss: 0.3106 - accuracy: 0.8821 - val_loss: 0.2839 - val_accuracy: 0.8775\n",
            "Epoch 147/150\n",
            "24/24 [==============================] - 26s 1s/step - loss: 0.2423 - accuracy: 0.9024 - val_loss: 0.2985 - val_accuracy: 0.8655\n",
            "Epoch 148/150\n",
            "24/24 [==============================] - 26s 1s/step - loss: 0.2577 - accuracy: 0.8949 - val_loss: 0.2384 - val_accuracy: 0.8992\n",
            "Epoch 149/150\n",
            "24/24 [==============================] - 26s 1s/step - loss: 0.2133 - accuracy: 0.9176 - val_loss: 0.3477 - val_accuracy: 0.8710\n",
            "Epoch 150/150\n",
            "24/24 [==============================] - 26s 1s/step - loss: 0.2877 - accuracy: 0.8809 - val_loss: 0.2241 - val_accuracy: 0.9139\n"
          ],
          "name": "stdout"
        },
        {
          "output_type": "execute_result",
          "data": {
            "text/plain": [
              "<keras.callbacks.History at 0x7fbb0017a690>"
            ]
          },
          "metadata": {
            "tags": []
          },
          "execution_count": 41
        }
      ]
    },
    {
      "cell_type": "code",
      "metadata": {
        "colab": {
          "base_uri": "https://localhost:8080/",
          "height": 353
        },
        "id": "HdNhf9EFk1iB",
        "outputId": "f27e40a9-2e0f-4513-efdd-7455289d9957"
      },
      "source": [
        "plt.figure(figsize = (10, 5))\n",
        "plt.plot(model.history.history['loss'], label = 'Loss')\n",
        "plt.plot(model.history.history['val_loss'], Label = 'Val_Loss')\n",
        "plt.xlabel('Epochs')\n",
        "plt.ylabel('Loss')\n",
        "plt.grid()\n",
        "plt.legend()"
      ],
      "execution_count": 42,
      "outputs": [
        {
          "output_type": "execute_result",
          "data": {
            "text/plain": [
              "<matplotlib.legend.Legend at 0x7fbac5d9aa50>"
            ]
          },
          "metadata": {
            "tags": []
          },
          "execution_count": 42
        },
        {
          "output_type": "display_data",
          "data": {
            "image/png": "[encoded data removed]",
            "text/plain": [
              "<Figure size 720x360 with 1 Axes>"
            ]
          },
          "metadata": {
            "tags": [],
            "needs_background": "light"
          }
        }
      ]
    },
    {
      "cell_type": "code",
      "metadata": {
        "colab": {
          "base_uri": "https://localhost:8080/"
        },
        "id": "L6R2Q4_9snWS",
        "outputId": "c97c3ee4-cf19-4ae3-b34c-7e4ba04af6ce"
      },
      "source": [
        "model.evaluate(testX,testY)"
      ],
      "execution_count": 43,
      "outputs": [
        {
          "output_type": "stream",
          "text": [
            "49/49 [==============================] - 12s 216ms/step - loss: 0.2012 - accuracy: 0.9256\n"
          ],
          "name": "stdout"
        },
        {
          "output_type": "execute_result",
          "data": {
            "text/plain": [
              "[0.2011745721101761, 0.9256057143211365]"
            ]
          },
          "metadata": {
            "tags": []
          },
          "execution_count": 43
        }
      ]
    },
    {
      "cell_type": "code",
      "metadata": {
        "id": "zDoA2vFdsnQZ"
      },
      "source": [
        "model.save()"
      ],
      "execution_count": null,
      "outputs": []
    },
    {
      "cell_type": "code",
      "metadata": {
        "id": "OhOT3T95T5E-"
      },
      "source": [
        "neurons = 50\n",
        "units = neurons*4\n",
        "layer = 0\n",
        "W = model.layers[layer].get_weights()[0]\n",
        "U = model.layers[layer].get_weights()[1]\n",
        "b = model.layers[layer].get_weights()[2]\n",
        "\n",
        "W_i = W[:, :units]\n",
        "W_f = W[:, units: units * 2]\n",
        "W_c = W[:, units * 2: units * 3]\n",
        "W_o = W[:, units * 3:]\n",
        "\n",
        "U_i = U[:, :units]\n",
        "U_f = U[:, units: units * 2]\n",
        "U_c = U[:, units * 2: units * 3]\n",
        "U_o = U[:, units * 3:]\n",
        "\n",
        "b_i = b[:units]\n",
        "b_f = b[units: units * 2]\n",
        "b_c = b[units * 2: units * 3]\n",
        "b_o = b[units * 3:]\n",
        "\n",
        "spio.savemat('/content/drive/My Drive/Colab Notebooks/twist3/01_LSTM_Layer.mat', dict(W_i=W_i, W_f=W_f, W_c=W_c, W_o=W_o, U_i=U_i, U_f=U_f, U_c=U_c, U_o=U_o, b_i=b_i, b_f=b_f, b_c=b_c, b_o=b_o))\n",
        "\n",
        "units = neurons*2\n",
        "layer = 2\n",
        "W = model.layers[layer].get_weights()[0]\n",
        "U = model.layers[layer].get_weights()[1]\n",
        "b = model.layers[layer].get_weights()[2]\n",
        "\n",
        "W_i = W[:, :units]\n",
        "W_f = W[:, units: units * 2]\n",
        "W_c = W[:, units * 2: units * 3]\n",
        "W_o = W[:, units * 3:]\n",
        "\n",
        "U_i = U[:, :units]\n",
        "U_f = U[:, units: units * 2]\n",
        "U_c = U[:, units * 2: units * 3]\n",
        "U_o = U[:, units * 3:]\n",
        "\n",
        "b_i = b[:units]\n",
        "b_f = b[units: units * 2]\n",
        "b_c = b[units * 2: units * 3]\n",
        "b_o = b[units * 3:]\n",
        "\n",
        "spio.savemat('/content/drive/My Drive/Colab Notebooks/twist3/03_LSTM_Layer.mat', dict(W_i=W_i, W_f=W_f, W_c=W_c, W_o=W_o, U_i=U_i, U_f=U_f, U_c=U_c, U_o=U_o, b_i=b_i, b_f=b_f, b_c=b_c, b_o=b_o))"
      ],
      "execution_count": null,
      "outputs": []
    },
    {
      "cell_type": "code",
      "metadata": {
        "id": "5uFd-tMGFLqr"
      },
      "source": [
        "layer = 4\n",
        "W = model.layers[layer].get_weights()[0]\n",
        "b = model.layers[layer].get_weights()[1]\n",
        "\n",
        "spio.savemat('/content/drive/My Drive/Colab Notebooks/twist3/05_TimeDistributedDense_Layer.mat', dict(W=W, b=b))\n",
        "\n",
        "layer = 5\n",
        "W = model.layers[layer].get_weights()[0]\n",
        "b = model.layers[layer].get_weights()[1]\n",
        "\n",
        "spio.savemat('/content/drive/My Drive/Colab Notebooks/twist3/06_TimeDistributedDense_Layer.mat', dict(W=W, b=b))"
      ],
      "execution_count": null,
      "outputs": []
    },
    {
      "cell_type": "code",
      "metadata": {
        "id": "60Yc94K3HbDN"
      },
      "source": [
        ""
      ],
      "execution_count": null,
      "outputs": []
    }
  ]
}